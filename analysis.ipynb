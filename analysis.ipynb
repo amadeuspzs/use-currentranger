{
 "cells": [
  {
   "cell_type": "markdown",
   "id": "spare-thomson",
   "metadata": {},
   "source": [
    "# Current Ranger Analysis\n",
    "\n",
    "Import visualisation/analysis libraries"
   ]
  },
  {
   "cell_type": "code",
   "execution_count": null,
   "id": "dense-organization",
   "metadata": {},
   "outputs": [],
   "source": [
    "import pandas as pd\n",
    "import plotly.express as px\n",
    "import numpy as np"
   ]
  },
  {
   "cell_type": "markdown",
   "id": "abandoned-ability",
   "metadata": {},
   "source": [
    "## Import data"
   ]
  },
  {
   "cell_type": "code",
   "execution_count": null,
   "id": "driven-isaac",
   "metadata": {},
   "outputs": [],
   "source": [
    "data = pd.read_csv(\"output.csv\",index_col=\"timestamp\")\n",
    "data.head()"
   ]
  },
  {
   "cell_type": "markdown",
   "id": "concrete-whole",
   "metadata": {},
   "source": [
    "## Plot data"
   ]
  },
  {
   "cell_type": "code",
   "execution_count": null,
   "id": "differential-happening",
   "metadata": {
    "scrolled": false
   },
   "outputs": [],
   "source": [
    "fig = px.line(data, y=\"current\", labels = {'current': \"current (A)\"})\n",
    "fig.update_xaxes(rangeslider_visible=True)\n",
    "fig.show(\"notebook\")"
   ]
  }
 ],
 "metadata": {
  "kernelspec": {
   "display_name": "Python 3",
   "language": "python",
   "name": "python3"
  },
  "language_info": {
   "codemirror_mode": {
    "name": "ipython",
    "version": 3
   },
   "file_extension": ".py",
   "mimetype": "text/x-python",
   "name": "python",
   "nbconvert_exporter": "python",
   "pygments_lexer": "ipython3",
   "version": "3.8.2"
  }
 },
 "nbformat": 4,
 "nbformat_minor": 5
}
